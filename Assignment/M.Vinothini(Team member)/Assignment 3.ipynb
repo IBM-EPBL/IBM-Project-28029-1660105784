{
 "cells": [
  {
   "cell_type": "markdown",
   "id": "605f6e8b",
   "metadata": {},
   "source": [
    "# Assignment 3\n"
   ]
  },
  {
   "cell_type": "markdown",
   "id": "d37a85f6",
   "metadata": {},
   "source": [
    "You are driving a little too fast, and a police officer stops you. Write a function to return one of 3 possible results: \"No ticket\", \"Small ticket\", or \"Big Ticket\". If your speed is 60 or less, the result is \"No Ticket\". If speed is between 61 and 80 inclusive, the result is \"Small Ticket\". If speed is 81 or more, the result is \"Big Ticket\". Unless it is your birthday (encoded as a boolean value in the parameters of the function) -- on your birthday, your speed can be 5 higher in all cases."
   ]
  },
  {
   "cell_type": "code",
   "execution_count": 1,
   "id": "38631a7e",
   "metadata": {},
   "outputs": [
    {
     "name": "stdout",
     "output_type": "stream",
     "text": [
      "Enter the speed(km/h)(only member phase):\n",
      "\n",
      ">75\n",
      "Enter your birthday:(in DD/MM/YYYY format)\n",
      "\n",
      ">28/07/2000\n",
      "Small Ticket\n"
     ]
    }
   ],
   "source": [
    "print(\"Enter the speed(km/h)(only member phase):\\n\")\n",
    "speed=int(input(\">\"))\n",
    "print(\"Enter your birthday:(in DD/MM/YYYY format)\\n\")\n",
    "is_birthday=str(input(\">\"))\n",
    "def caught_speeding(speed, is_birthday):\n",
    "    \n",
    "    if is_birthday=='28/07/2000':\n",
    "        speeding = speed - 5\n",
    "    else:\n",
    "        speeding = speed\n",
    "    \n",
    "    if speeding <=60:\n",
    "        print(\"no ticket\")\n",
    "    if speeding>61 and speeding<=80:\n",
    "      print(\"Small Ticket\")\n",
    "    else:\n",
    "      print(\"Big Ticktet\")\n",
    "caught_speeding(speed, is_birthday)"
   ]
  },
  {
   "cell_type": "code",
   "execution_count": 4,
   "id": "be7ddf67",
   "metadata": {},
   "outputs": [
    {
     "name": "stdout",
     "output_type": "stream",
     "text": [
      "Total salary expenditure: Rs.5500.00 \n"
     ]
    }
   ],
   "source": [
    "def weeklyPaid(hours_worked, wage):\n",
    "    if hours_worked > 40:\n",
    "        return 40 * wage + (hours_worked - 40) * wage * 1.5\n",
    "    else:\n",
    "        return hours_worked * wage\n",
    " \n",
    " \n",
    "hours_worked = 50\n",
    "wage = 100\n",
    " \n",
    "pay = weeklyPaid(hours_worked, wage)\n",
    " \n",
    "print(f\"Total salary expenditure: Rs.{pay:.2f} \")"
   ]
  },
  {
   "cell_type": "code",
   "execution_count": 3,
   "id": "4dbe6ff7",
   "metadata": {},
   "outputs": [
    {
     "name": "stdout",
     "output_type": "stream",
     "text": [
      "{'EmpName': 'rajesh', 'Empid': '7321', 'Basicpay': 20000, 'depname': 'production', 'depid': 432}\n"
     ]
    }
   ],
   "source": [
    "def Merge(dict1, dict2):\n",
    "    res = {**dict1, **dict2}\n",
    "    return res  \n",
    "# Driver code\n",
    "dict1 = {'EmpName': 'rajesh','Empid':'7321', 'Basicpay': 20000}\n",
    "dict2 = {'depname': 'production', 'depid': 432}\n",
    "dict3 = Merge(dict1, dict2)\n",
    "print(dict3)"
   ]
  }
 ],
 "metadata": {
  "kernelspec": {
   "display_name": "Python 3 (ipykernel)",
   "language": "python",
   "name": "python3"
  },
  "language_info": {
   "codemirror_mode": {
    "name": "ipython",
    "version": 3
   },
   "file_extension": ".py",
   "mimetype": "text/x-python",
   "name": "python",
   "nbconvert_exporter": "python",
   "pygments_lexer": "ipython3",
   "version": "3.9.13"
  }
 },
 "nbformat": 4,
 "nbformat_minor": 5
}
